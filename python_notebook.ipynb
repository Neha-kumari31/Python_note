{
  "nbformat": 4,
  "nbformat_minor": 0,
  "metadata": {
    "colab": {
      "provenance": [],
      "authorship_tag": "ABX9TyMb0GlIobT43nWDuIPSpEsY",
      "include_colab_link": true
    },
    "kernelspec": {
      "name": "python3",
      "display_name": "Python 3"
    },
    "language_info": {
      "name": "python"
    }
  },
  "cells": [
    {
      "cell_type": "markdown",
      "metadata": {
        "id": "view-in-github",
        "colab_type": "text"
      },
      "source": [
        "<a href=\"https://colab.research.google.com/github/Neha-kumari31/Python_note/blob/main/python_notebook.ipynb\" target=\"_parent\"><img src=\"https://colab.research.google.com/assets/colab-badge.svg\" alt=\"Open In Colab\"/></a>"
      ]
    },
    {
      "cell_type": "code",
      "execution_count": null,
      "metadata": {
        "id": "UfsBAxgfqsnx"
      },
      "outputs": [],
      "source": []
    },
    {
      "cell_type": "markdown",
      "source": [
        "https://www.datacamp.com/tutorial/pandas-tutorial-dataframe-python\n",
        "\n",
        "\n",
        "Variable  - name of the reference of the actual data"
      ],
      "metadata": {
        "id": "_ziKg0yMFCl3"
      }
    },
    {
      "cell_type": "code",
      "source": [
        "a= [1,2,3]\n",
        "b = a  # name a, b both reference to the list [a,b,c]\n",
        "b[1] = 999\n",
        "a\n"
      ],
      "metadata": {
        "colab": {
          "base_uri": "https://localhost:8080/"
        },
        "id": "I0cmEpOmFNrz",
        "outputId": "706a2497-8054-4a64-a09c-da15d0f0ab3a"
      },
      "execution_count": null,
      "outputs": [
        {
          "output_type": "execute_result",
          "data": {
            "text/plain": [
              "[1, 999, 3]"
            ]
          },
          "metadata": {},
          "execution_count": 1
        }
      ]
    },
    {
      "cell_type": "markdown",
      "source": [
        "Order of operation for boolean\n",
        "Not, and, or\n",
        "\n",
        "python evaluate expression from left to right"
      ],
      "metadata": {
        "id": "5CXCNFtiqAog"
      }
    },
    {
      "cell_type": "code",
      "source": [
        "# x=10\n",
        "# y=0\n",
        "# if x/y == 2 and y!=0:\n",
        "#   print('pass')\n",
        "# else:\n",
        "#   print('fail')\n",
        "\n",
        "\n",
        "\n"
      ],
      "metadata": {
        "colab": {
          "base_uri": "https://localhost:8080/",
          "height": 211
        },
        "id": "VEnsYsoIrSOy",
        "outputId": "4b7fe400-7df4-4b78-fb6d-ae43f7eaef9d"
      },
      "execution_count": null,
      "outputs": [
        {
          "output_type": "error",
          "ename": "ZeroDivisionError",
          "evalue": "division by zero",
          "traceback": [
            "\u001b[0;31m---------------------------------------------------------------------------\u001b[0m",
            "\u001b[0;31mZeroDivisionError\u001b[0m                         Traceback (most recent call last)",
            "\u001b[0;32m<ipython-input-3-70867abcde0d>\u001b[0m in \u001b[0;36m<cell line: 0>\u001b[0;34m()\u001b[0m\n\u001b[1;32m      1\u001b[0m \u001b[0mx\u001b[0m\u001b[0;34m=\u001b[0m\u001b[0;36m10\u001b[0m\u001b[0;34m\u001b[0m\u001b[0;34m\u001b[0m\u001b[0m\n\u001b[1;32m      2\u001b[0m \u001b[0my\u001b[0m\u001b[0;34m=\u001b[0m\u001b[0;36m0\u001b[0m\u001b[0;34m\u001b[0m\u001b[0;34m\u001b[0m\u001b[0m\n\u001b[0;32m----> 3\u001b[0;31m \u001b[0;32mif\u001b[0m \u001b[0mx\u001b[0m\u001b[0;34m/\u001b[0m\u001b[0my\u001b[0m \u001b[0;34m==\u001b[0m \u001b[0;36m2\u001b[0m \u001b[0;32mand\u001b[0m \u001b[0my\u001b[0m\u001b[0;34m!=\u001b[0m\u001b[0;36m0\u001b[0m\u001b[0;34m:\u001b[0m\u001b[0;34m\u001b[0m\u001b[0;34m\u001b[0m\u001b[0m\n\u001b[0m\u001b[1;32m      4\u001b[0m   \u001b[0mprint\u001b[0m\u001b[0;34m(\u001b[0m\u001b[0;34m'pass'\u001b[0m\u001b[0;34m)\u001b[0m\u001b[0;34m\u001b[0m\u001b[0;34m\u001b[0m\u001b[0m\n\u001b[1;32m      5\u001b[0m \u001b[0;32melse\u001b[0m\u001b[0;34m:\u001b[0m\u001b[0;34m\u001b[0m\u001b[0;34m\u001b[0m\u001b[0m\n",
            "\u001b[0;31mZeroDivisionError\u001b[0m: division by zero"
          ]
        }
      ]
    },
    {
      "cell_type": "code",
      "source": [
        "# we need to reverse the expression in the if\n",
        "\n",
        "x=10\n",
        "y=0\n",
        "if y!=0 and x/y == 2 :\n",
        "  print('pass')\n",
        "else:\n",
        "  print('fail')"
      ],
      "metadata": {
        "colab": {
          "base_uri": "https://localhost:8080/"
        },
        "id": "GmZma4OpsIcl",
        "outputId": "49f040ae-eb58-4866-af60-933f022f5cea"
      },
      "execution_count": null,
      "outputs": [
        {
          "output_type": "stream",
          "name": "stdout",
          "text": [
            "fail\n"
          ]
        }
      ]
    },
    {
      "cell_type": "markdown",
      "source": [
        "list.append() # append at right side\n",
        "list.insert(position, value)\n",
        "list.pop()\n",
        "list.pop(position)"
      ],
      "metadata": {
        "id": "vj_kHm9ilmOI"
      }
    },
    {
      "cell_type": "code",
      "source": [
        "mkdir make directry\n",
        "touch practice.py make file"
      ],
      "metadata": {
        "id": "O0KUG-uBG0r5"
      },
      "execution_count": null,
      "outputs": []
    },
    {
      "cell_type": "markdown",
      "source": [
        "what is __init__.py\n",
        "is a special file that is useed to define the the packages and initialize their namespace. Without this file, Python won't recognize a directory as a package. It serves two main purposes:\n",
        "\n",
        "It marks the directory as a Python Package so that the interpreter can find the modules inside it.\n",
        "It can contain initialization code for the Package, such as importing submodules, defining variables, or executing other code.\n",
        "when we cfreate a directory(folder)"
      ],
      "metadata": {
        "id": "eJyZn0xnNo5F"
      }
    },
    {
      "cell_type": "markdown",
      "source": [
        "pipenv install pandas\n",
        "pipenv shell"
      ],
      "metadata": {
        "id": "3E7z1DjaOo0g"
      }
    },
    {
      "cell_type": "markdown",
      "source": [
        "Data structure\n",
        "list, tuple, string - sequence datastructure.....index matters\n",
        "set and dictionary - not sequence datastructure....index doesn't matter\n",
        "\n",
        "Mutable - list, dictionary\n",
        "\n",
        "Imutable - tuple, set\n",
        "\n",
        "list is like an array but it can hold different data type\n",
        "\n",
        "Dictionary\n",
        "mutable - we can add or remove entries, change the value of key\n",
        "\n",
        "but the key should be immuatable data type\n",
        "\n",
        "Set - is muttable. you can add or remove element in the set but element itself is not muttable you can't use list as element in the set\n"
      ],
      "metadata": {
        "id": "vlIja82HqxAz"
      }
    },
    {
      "cell_type": "code",
      "source": [
        "list = ['hghg', 99090]\n",
        "list2 = ['fcfdt', 9898,'sass']\n",
        "list.find()\n",
        "list.index()\n",
        "list.extend(list2)\n",
        "enumerate()\n",
        "for index, element in enumerate(list2):\n",
        "  print(index, element)\n",
        "list2.split(\\n)[1:]\n",
        "list2[5][0]"
      ],
      "metadata": {
        "id": "3jNJ-59ofquG"
      },
      "execution_count": null,
      "outputs": []
    },
    {
      "cell_type": "code",
      "source": [
        "# dictionary\n",
        "d1 = {\"k1\":78, \"k2\":56, \"k3\":\"uuhu\", 3 :\"hjhj\"}\n",
        "d1[\"k1\"]\n",
        "d1.get(\"k1\")\n",
        "d1[3]\n",
        "d1[\"k5\"] = \"hjhj\"\n",
        "d1[5] = \"kjk\"\n",
        "d1"
      ],
      "metadata": {
        "colab": {
          "base_uri": "https://localhost:8080/"
        },
        "id": "FCakq3meszeD",
        "outputId": "a18ecc60-dd5e-4fa1-e437-f92741bafb7b"
      },
      "execution_count": null,
      "outputs": [
        {
          "output_type": "execute_result",
          "data": {
            "text/plain": [
              "{'k1': 78, 'k2': 56, 'k3': 'uuhu', 3: 'hjhj', 'k5': 'hjhj', 5: 'kjk'}"
            ]
          },
          "metadata": {},
          "execution_count": 9
        }
      ]
    },
    {
      "cell_type": "code",
      "source": [
        "if __name__=\"__main__\":\n",
        "  num1 = complex(3,-5)"
      ],
      "metadata": {
        "id": "qT5B0pUdW690"
      },
      "execution_count": null,
      "outputs": []
    },
    {
      "cell_type": "markdown",
      "source": [
        "this main function will run when you rurn the file not when you impoert the file."
      ],
      "metadata": {
        "id": "WHhjZ0SPXU-D"
      }
    },
    {
      "cell_type": "markdown",
      "source": [
        "In pandas, an index is a way of identifying rows and columns in a DataFrame. An index can be a label or a numerical value that uniquely identifies each row or column in a DataFrame.By default, pandas assigns a numerical index to each row of a DataFrame, starting from zero."
      ],
      "metadata": {
        "id": "SVoTvLb8S-F1"
      }
    },
    {
      "cell_type": "markdown",
      "source": [
        "de"
      ],
      "metadata": {
        "id": "DmqUaz-DW2_q"
      }
    }
  ]
}